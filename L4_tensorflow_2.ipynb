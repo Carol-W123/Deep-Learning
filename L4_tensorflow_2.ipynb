{
  "nbformat": 4,
  "nbformat_minor": 0,
  "metadata": {
    "colab": {
      "name": "L4_tensorflow_2.ipynb",
      "provenance": []
    },
    "kernelspec": {
      "name": "python3",
      "display_name": "Python 3"
    },
    "accelerator": "GPU"
  },
  "cells": [
    {
      "cell_type": "code",
      "metadata": {
        "colab_type": "code",
        "id": "k40RZ84Dck04",
        "colab": {
          "base_uri": "https://localhost:8080/",
          "height": 734
        },
        "outputId": "ad08d1ff-ab75-4cff-d999-9b08db7ac9a9"
      },
      "source": [
        "pip install tensorflow_gpu"
      ],
      "execution_count": null,
      "outputs": [
        {
          "output_type": "stream",
          "text": [
            "Collecting tensorflow_gpu\n",
            "\u001b[?25l  Downloading https://files.pythonhosted.org/packages/31/bf/c28971266ca854a64f4b26f07c4112ddd61f30b4d1f18108b954a746f8ea/tensorflow_gpu-2.2.0-cp36-cp36m-manylinux2010_x86_64.whl (516.2MB)\n",
            "\u001b[K     |████████████████████████████████| 516.2MB 32kB/s \n",
            "\u001b[?25hRequirement already satisfied: termcolor>=1.1.0 in /usr/local/lib/python3.6/dist-packages (from tensorflow_gpu) (1.1.0)\n",
            "Requirement already satisfied: gast==0.3.3 in /usr/local/lib/python3.6/dist-packages (from tensorflow_gpu) (0.3.3)\n",
            "Requirement already satisfied: wheel>=0.26; python_version >= \"3\" in /usr/local/lib/python3.6/dist-packages (from tensorflow_gpu) (0.34.2)\n",
            "Requirement already satisfied: h5py<2.11.0,>=2.10.0 in /usr/local/lib/python3.6/dist-packages (from tensorflow_gpu) (2.10.0)\n",
            "Requirement already satisfied: opt-einsum>=2.3.2 in /usr/local/lib/python3.6/dist-packages (from tensorflow_gpu) (3.2.1)\n",
            "Requirement already satisfied: numpy<2.0,>=1.16.0 in /usr/local/lib/python3.6/dist-packages (from tensorflow_gpu) (1.18.5)\n",
            "Requirement already satisfied: keras-preprocessing>=1.1.0 in /usr/local/lib/python3.6/dist-packages (from tensorflow_gpu) (1.1.2)\n",
            "Requirement already satisfied: tensorflow-estimator<2.3.0,>=2.2.0 in /usr/local/lib/python3.6/dist-packages (from tensorflow_gpu) (2.2.0)\n",
            "Requirement already satisfied: wrapt>=1.11.1 in /usr/local/lib/python3.6/dist-packages (from tensorflow_gpu) (1.12.1)\n",
            "Requirement already satisfied: scipy==1.4.1; python_version >= \"3\" in /usr/local/lib/python3.6/dist-packages (from tensorflow_gpu) (1.4.1)\n",
            "Requirement already satisfied: astunparse==1.6.3 in /usr/local/lib/python3.6/dist-packages (from tensorflow_gpu) (1.6.3)\n",
            "Requirement already satisfied: google-pasta>=0.1.8 in /usr/local/lib/python3.6/dist-packages (from tensorflow_gpu) (0.2.0)\n",
            "Requirement already satisfied: tensorboard<2.3.0,>=2.2.0 in /usr/local/lib/python3.6/dist-packages (from tensorflow_gpu) (2.2.2)\n",
            "Requirement already satisfied: six>=1.12.0 in /usr/local/lib/python3.6/dist-packages (from tensorflow_gpu) (1.12.0)\n",
            "Requirement already satisfied: absl-py>=0.7.0 in /usr/local/lib/python3.6/dist-packages (from tensorflow_gpu) (0.9.0)\n",
            "Requirement already satisfied: grpcio>=1.8.6 in /usr/local/lib/python3.6/dist-packages (from tensorflow_gpu) (1.30.0)\n",
            "Requirement already satisfied: protobuf>=3.8.0 in /usr/local/lib/python3.6/dist-packages (from tensorflow_gpu) (3.10.0)\n",
            "Requirement already satisfied: google-auth-oauthlib<0.5,>=0.4.1 in /usr/local/lib/python3.6/dist-packages (from tensorboard<2.3.0,>=2.2.0->tensorflow_gpu) (0.4.1)\n",
            "Requirement already satisfied: requests<3,>=2.21.0 in /usr/local/lib/python3.6/dist-packages (from tensorboard<2.3.0,>=2.2.0->tensorflow_gpu) (2.23.0)\n",
            "Requirement already satisfied: werkzeug>=0.11.15 in /usr/local/lib/python3.6/dist-packages (from tensorboard<2.3.0,>=2.2.0->tensorflow_gpu) (1.0.1)\n",
            "Requirement already satisfied: setuptools>=41.0.0 in /usr/local/lib/python3.6/dist-packages (from tensorboard<2.3.0,>=2.2.0->tensorflow_gpu) (47.3.1)\n",
            "Requirement already satisfied: tensorboard-plugin-wit>=1.6.0 in /usr/local/lib/python3.6/dist-packages (from tensorboard<2.3.0,>=2.2.0->tensorflow_gpu) (1.6.0.post3)\n",
            "Requirement already satisfied: markdown>=2.6.8 in /usr/local/lib/python3.6/dist-packages (from tensorboard<2.3.0,>=2.2.0->tensorflow_gpu) (3.2.2)\n",
            "Requirement already satisfied: google-auth<2,>=1.6.3 in /usr/local/lib/python3.6/dist-packages (from tensorboard<2.3.0,>=2.2.0->tensorflow_gpu) (1.17.2)\n",
            "Requirement already satisfied: requests-oauthlib>=0.7.0 in /usr/local/lib/python3.6/dist-packages (from google-auth-oauthlib<0.5,>=0.4.1->tensorboard<2.3.0,>=2.2.0->tensorflow_gpu) (1.3.0)\n",
            "Requirement already satisfied: chardet<4,>=3.0.2 in /usr/local/lib/python3.6/dist-packages (from requests<3,>=2.21.0->tensorboard<2.3.0,>=2.2.0->tensorflow_gpu) (3.0.4)\n",
            "Requirement already satisfied: idna<3,>=2.5 in /usr/local/lib/python3.6/dist-packages (from requests<3,>=2.21.0->tensorboard<2.3.0,>=2.2.0->tensorflow_gpu) (2.9)\n",
            "Requirement already satisfied: certifi>=2017.4.17 in /usr/local/lib/python3.6/dist-packages (from requests<3,>=2.21.0->tensorboard<2.3.0,>=2.2.0->tensorflow_gpu) (2020.6.20)\n",
            "Requirement already satisfied: urllib3!=1.25.0,!=1.25.1,<1.26,>=1.21.1 in /usr/local/lib/python3.6/dist-packages (from requests<3,>=2.21.0->tensorboard<2.3.0,>=2.2.0->tensorflow_gpu) (1.24.3)\n",
            "Requirement already satisfied: importlib-metadata; python_version < \"3.8\" in /usr/local/lib/python3.6/dist-packages (from markdown>=2.6.8->tensorboard<2.3.0,>=2.2.0->tensorflow_gpu) (1.6.1)\n",
            "Requirement already satisfied: cachetools<5.0,>=2.0.0 in /usr/local/lib/python3.6/dist-packages (from google-auth<2,>=1.6.3->tensorboard<2.3.0,>=2.2.0->tensorflow_gpu) (4.1.0)\n",
            "Requirement already satisfied: pyasn1-modules>=0.2.1 in /usr/local/lib/python3.6/dist-packages (from google-auth<2,>=1.6.3->tensorboard<2.3.0,>=2.2.0->tensorflow_gpu) (0.2.8)\n",
            "Requirement already satisfied: rsa<5,>=3.1.4; python_version >= \"3\" in /usr/local/lib/python3.6/dist-packages (from google-auth<2,>=1.6.3->tensorboard<2.3.0,>=2.2.0->tensorflow_gpu) (4.6)\n",
            "Requirement already satisfied: oauthlib>=3.0.0 in /usr/local/lib/python3.6/dist-packages (from requests-oauthlib>=0.7.0->google-auth-oauthlib<0.5,>=0.4.1->tensorboard<2.3.0,>=2.2.0->tensorflow_gpu) (3.1.0)\n",
            "Requirement already satisfied: zipp>=0.5 in /usr/local/lib/python3.6/dist-packages (from importlib-metadata; python_version < \"3.8\"->markdown>=2.6.8->tensorboard<2.3.0,>=2.2.0->tensorflow_gpu) (3.1.0)\n",
            "Requirement already satisfied: pyasn1<0.5.0,>=0.4.6 in /usr/local/lib/python3.6/dist-packages (from pyasn1-modules>=0.2.1->google-auth<2,>=1.6.3->tensorboard<2.3.0,>=2.2.0->tensorflow_gpu) (0.4.8)\n",
            "Installing collected packages: tensorflow-gpu\n",
            "Successfully installed tensorflow-gpu-2.2.0\n"
          ],
          "name": "stdout"
        }
      ]
    },
    {
      "cell_type": "code",
      "metadata": {
        "colab_type": "code",
        "id": "nGUI9Hywck08",
        "colab": {
          "base_uri": "https://localhost:8080/",
          "height": 34
        },
        "outputId": "bbda086e-0975-4270-a7d2-75fd04badd66"
      },
      "source": [
        "import tensorflow as tf\n",
        "print(tf.__version__)"
      ],
      "execution_count": null,
      "outputs": [
        {
          "output_type": "stream",
          "text": [
            "2.2.0\n"
          ],
          "name": "stdout"
        }
      ]
    },
    {
      "cell_type": "code",
      "metadata": {
        "colab_type": "code",
        "id": "OOjaN0o0ck1B",
        "colab": {}
      },
      "source": [
        "import numpy as np"
      ],
      "execution_count": null,
      "outputs": []
    },
    {
      "cell_type": "code",
      "metadata": {
        "id": "GjuUMkxLdDmA",
        "colab_type": "code",
        "colab": {}
      },
      "source": [
        "fashion_mnist = tf.keras.datasets.fashion_mnist"
      ],
      "execution_count": null,
      "outputs": []
    },
    {
      "cell_type": "code",
      "metadata": {
        "id": "1xRgJSRedtQQ",
        "colab_type": "code",
        "colab": {
          "base_uri": "https://localhost:8080/",
          "height": 173
        },
        "outputId": "15574f81-af99-4f64-ab4f-504d7fcb4937"
      },
      "source": [
        "(train_images, train_labels), (test_images, test_labels) = fashion_mnist.load_data()"
      ],
      "execution_count": null,
      "outputs": [
        {
          "output_type": "stream",
          "text": [
            "Downloading data from https://storage.googleapis.com/tensorflow/tf-keras-datasets/train-labels-idx1-ubyte.gz\n",
            "32768/29515 [=================================] - 0s 0us/step\n",
            "Downloading data from https://storage.googleapis.com/tensorflow/tf-keras-datasets/train-images-idx3-ubyte.gz\n",
            "26427392/26421880 [==============================] - 0s 0us/step\n",
            "Downloading data from https://storage.googleapis.com/tensorflow/tf-keras-datasets/t10k-labels-idx1-ubyte.gz\n",
            "8192/5148 [===============================================] - 0s 0us/step\n",
            "Downloading data from https://storage.googleapis.com/tensorflow/tf-keras-datasets/t10k-images-idx3-ubyte.gz\n",
            "4423680/4422102 [==============================] - 0s 0us/step\n"
          ],
          "name": "stdout"
        }
      ]
    },
    {
      "cell_type": "code",
      "metadata": {
        "id": "84ru9rMqeIWy",
        "colab_type": "code",
        "colab": {
          "base_uri": "https://localhost:8080/",
          "height": 34
        },
        "outputId": "b016b793-b8f1-4e3e-ab36-e82bc65aee66"
      },
      "source": [
        "train_images.shape"
      ],
      "execution_count": null,
      "outputs": [
        {
          "output_type": "execute_result",
          "data": {
            "text/plain": [
              "(60000, 28, 28)"
            ]
          },
          "metadata": {
            "tags": []
          },
          "execution_count": 6
        }
      ]
    },
    {
      "cell_type": "code",
      "metadata": {
        "id": "H87wMUJPeMrr",
        "colab_type": "code",
        "colab": {
          "base_uri": "https://localhost:8080/",
          "height": 34
        },
        "outputId": "30015925-e55f-4723-b97c-d8dbff9493de"
      },
      "source": [
        "test_images.shape"
      ],
      "execution_count": null,
      "outputs": [
        {
          "output_type": "execute_result",
          "data": {
            "text/plain": [
              "(10000, 28, 28)"
            ]
          },
          "metadata": {
            "tags": []
          },
          "execution_count": 7
        }
      ]
    },
    {
      "cell_type": "code",
      "metadata": {
        "id": "LA5cHtmFehCg",
        "colab_type": "code",
        "colab": {}
      },
      "source": [
        "model = tf.keras.Sequential([\n",
        "                            tf.keras.layers.Flatten(input_shape = (28,28)),\n",
        "                            tf.keras.layers.Dense(units = 128, activation = 'relu'),\n",
        "                            tf.keras.layers.Dense(units = 10, activation = 'softmax')\n",
        "                                                    ])"
      ],
      "execution_count": null,
      "outputs": []
    },
    {
      "cell_type": "code",
      "metadata": {
        "id": "VU1ZOiXYfvmd",
        "colab_type": "code",
        "colab": {}
      },
      "source": [
        "model.compile(optimizer = 'Adam', loss = 'sparse_categorical_crossentropy')"
      ],
      "execution_count": null,
      "outputs": []
    },
    {
      "cell_type": "code",
      "metadata": {
        "id": "ihGUzC2Of9cp",
        "colab_type": "code",
        "colab": {
          "base_uri": "https://localhost:8080/",
          "height": 1000
        },
        "outputId": "2226f2eb-eedd-4ff4-880e-6345ef742c68"
      },
      "source": [
        "model.fit(train_images, train_labels, epochs = 50)"
      ],
      "execution_count": null,
      "outputs": [
        {
          "output_type": "stream",
          "text": [
            "Epoch 1/50\n",
            "1875/1875 [==============================] - 3s 1ms/step - loss: 3.0322\n",
            "Epoch 2/50\n",
            "1875/1875 [==============================] - 3s 1ms/step - loss: 0.7178\n",
            "Epoch 3/50\n",
            "1875/1875 [==============================] - 3s 1ms/step - loss: 0.6031\n",
            "Epoch 4/50\n",
            "1875/1875 [==============================] - 3s 1ms/step - loss: 0.5429\n",
            "Epoch 5/50\n",
            "1875/1875 [==============================] - 3s 1ms/step - loss: 0.5105\n",
            "Epoch 6/50\n",
            "1875/1875 [==============================] - 3s 1ms/step - loss: 0.4939\n",
            "Epoch 7/50\n",
            "1875/1875 [==============================] - 3s 1ms/step - loss: 0.4829\n",
            "Epoch 8/50\n",
            "1875/1875 [==============================] - 3s 1ms/step - loss: 0.4750\n",
            "Epoch 9/50\n",
            "1875/1875 [==============================] - 3s 1ms/step - loss: 0.4653\n",
            "Epoch 10/50\n",
            "1875/1875 [==============================] - 3s 1ms/step - loss: 0.4624\n",
            "Epoch 11/50\n",
            "1875/1875 [==============================] - 3s 1ms/step - loss: 0.4559\n",
            "Epoch 12/50\n",
            "1875/1875 [==============================] - 3s 2ms/step - loss: 0.4574\n",
            "Epoch 13/50\n",
            "1875/1875 [==============================] - 3s 2ms/step - loss: 0.4505\n",
            "Epoch 14/50\n",
            "1875/1875 [==============================] - 3s 2ms/step - loss: 0.4488\n",
            "Epoch 15/50\n",
            "1875/1875 [==============================] - 3s 1ms/step - loss: 0.4410\n",
            "Epoch 16/50\n",
            "1875/1875 [==============================] - 3s 1ms/step - loss: 0.4408\n",
            "Epoch 17/50\n",
            "1875/1875 [==============================] - 3s 1ms/step - loss: 0.4478\n",
            "Epoch 18/50\n",
            "1875/1875 [==============================] - 3s 1ms/step - loss: 0.4382\n",
            "Epoch 19/50\n",
            "1875/1875 [==============================] - 3s 1ms/step - loss: 0.4441\n",
            "Epoch 20/50\n",
            "1875/1875 [==============================] - 3s 1ms/step - loss: 0.4457\n",
            "Epoch 21/50\n",
            "1875/1875 [==============================] - 3s 1ms/step - loss: 0.4369\n",
            "Epoch 22/50\n",
            "1875/1875 [==============================] - 3s 1ms/step - loss: 0.4336\n",
            "Epoch 23/50\n",
            "1875/1875 [==============================] - 3s 1ms/step - loss: 0.4336\n",
            "Epoch 24/50\n",
            "1875/1875 [==============================] - 3s 1ms/step - loss: 0.4331\n",
            "Epoch 25/50\n",
            "1875/1875 [==============================] - 3s 1ms/step - loss: 0.4364\n",
            "Epoch 26/50\n",
            "1875/1875 [==============================] - 3s 1ms/step - loss: 0.4330\n",
            "Epoch 27/50\n",
            "1875/1875 [==============================] - 3s 1ms/step - loss: 0.4275\n",
            "Epoch 28/50\n",
            "1875/1875 [==============================] - 3s 1ms/step - loss: 0.4381\n",
            "Epoch 29/50\n",
            "1875/1875 [==============================] - 3s 1ms/step - loss: 0.4309\n",
            "Epoch 30/50\n",
            "1875/1875 [==============================] - 3s 1ms/step - loss: 0.4240\n",
            "Epoch 31/50\n",
            "1875/1875 [==============================] - 3s 1ms/step - loss: 0.4302\n",
            "Epoch 32/50\n",
            "1875/1875 [==============================] - 3s 1ms/step - loss: 0.4312\n",
            "Epoch 33/50\n",
            "1875/1875 [==============================] - 3s 1ms/step - loss: 0.4256\n",
            "Epoch 34/50\n",
            "1875/1875 [==============================] - 3s 1ms/step - loss: 0.4197\n",
            "Epoch 35/50\n",
            "1875/1875 [==============================] - 3s 1ms/step - loss: 0.4211\n",
            "Epoch 36/50\n",
            "1875/1875 [==============================] - 3s 1ms/step - loss: 0.4317\n",
            "Epoch 37/50\n",
            "1875/1875 [==============================] - 3s 1ms/step - loss: 0.4177\n",
            "Epoch 38/50\n",
            "1875/1875 [==============================] - 3s 1ms/step - loss: 0.4217\n",
            "Epoch 39/50\n",
            "1875/1875 [==============================] - 3s 1ms/step - loss: 0.4243\n",
            "Epoch 40/50\n",
            "1875/1875 [==============================] - 3s 1ms/step - loss: 0.4259\n",
            "Epoch 41/50\n",
            "1875/1875 [==============================] - 3s 1ms/step - loss: 0.4205\n",
            "Epoch 42/50\n",
            "1875/1875 [==============================] - 3s 1ms/step - loss: 0.4321\n",
            "Epoch 43/50\n",
            "1875/1875 [==============================] - 3s 1ms/step - loss: 0.4219\n",
            "Epoch 44/50\n",
            "1875/1875 [==============================] - 3s 1ms/step - loss: 0.4148\n",
            "Epoch 45/50\n",
            "1875/1875 [==============================] - 3s 1ms/step - loss: 0.4204\n",
            "Epoch 46/50\n",
            "1875/1875 [==============================] - 3s 1ms/step - loss: 0.4188\n",
            "Epoch 47/50\n",
            "1875/1875 [==============================] - 3s 1ms/step - loss: 0.4213\n",
            "Epoch 48/50\n",
            "1875/1875 [==============================] - 3s 1ms/step - loss: 0.4159\n",
            "Epoch 49/50\n",
            "1875/1875 [==============================] - 3s 1ms/step - loss: 0.4226\n",
            "Epoch 50/50\n",
            "1875/1875 [==============================] - 3s 1ms/step - loss: 0.4215\n"
          ],
          "name": "stdout"
        },
        {
          "output_type": "execute_result",
          "data": {
            "text/plain": [
              "<tensorflow.python.keras.callbacks.History at 0x7fac200acbe0>"
            ]
          },
          "metadata": {
            "tags": []
          },
          "execution_count": 10
        }
      ]
    },
    {
      "cell_type": "code",
      "metadata": {
        "id": "COdFBiVIZzyO",
        "colab_type": "code",
        "colab": {}
      },
      "source": [
        ""
      ],
      "execution_count": null,
      "outputs": []
    }
  ]
}