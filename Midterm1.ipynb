{
  "nbformat": 4,
  "nbformat_minor": 0,
  "metadata": {
    "colab": {
      "name": "Midterm1.ipynb",
      "provenance": [],
      "collapsed_sections": []
    },
    "kernelspec": {
      "name": "python3",
      "display_name": "Python 3"
    },
    "accelerator": "GPU"
  },
  "cells": [
    {
      "cell_type": "code",
      "metadata": {
        "id": "UEg3P8owUbKC",
        "colab_type": "code",
        "colab": {
          "base_uri": "https://localhost:8080/",
          "height": 122
        },
        "outputId": "a650a037-d6a6-4ede-e12a-f35d11fc589c"
      },
      "source": [
        "from google.colab import drive\n",
        "drive.mount('/content/drive')"
      ],
      "execution_count": null,
      "outputs": [
        {
          "output_type": "stream",
          "text": [
            "Go to this URL in a browser: https://accounts.google.com/o/oauth2/auth?client_id=947318989803-6bn6qk8qdgf4n4g3pfee6491hc0brc4i.apps.googleusercontent.com&redirect_uri=urn%3aietf%3awg%3aoauth%3a2.0%3aoob&response_type=code&scope=email%20https%3a%2f%2fwww.googleapis.com%2fauth%2fdocs.test%20https%3a%2f%2fwww.googleapis.com%2fauth%2fdrive%20https%3a%2f%2fwww.googleapis.com%2fauth%2fdrive.photos.readonly%20https%3a%2f%2fwww.googleapis.com%2fauth%2fpeopleapi.readonly\n",
            "\n",
            "Enter your authorization code:\n",
            "··········\n",
            "Mounted at /content/drive\n"
          ],
          "name": "stdout"
        }
      ]
    },
    {
      "cell_type": "code",
      "metadata": {
        "id": "W2T8LAzYNgP1",
        "colab_type": "code",
        "colab": {}
      },
      "source": [
        "import numpy as np\n",
        "def vectorize_sequences(sequences,dims=10000):\n",
        "\n",
        "    results=np.zeros((len(sequences),dims))\n",
        "    for i,sequence in enumerate(sequences):\n",
        "        results[i,sequence]=1\n",
        "    return results"
      ],
      "execution_count": null,
      "outputs": []
    },
    {
      "cell_type": "code",
      "metadata": {
        "id": "Ybt2SLLQOWXH",
        "colab_type": "code",
        "colab": {}
      },
      "source": [
        "import tensorflow as tf\n",
        "(train_data, train_label), (test_data, test_label) = tf.keras.datasets.imdb.load_data(num_words=10000)\n"
      ],
      "execution_count": null,
      "outputs": []
    },
    {
      "cell_type": "code",
      "metadata": {
        "id": "YB4TLiFbOrOb",
        "colab_type": "code",
        "colab": {
          "base_uri": "https://localhost:8080/",
          "height": 34
        },
        "outputId": "93c81afe-326b-4878-84e8-4d7d5c73d31b"
      },
      "source": [
        "train_vector = vectorize_sequences(train_data)\n",
        "train_vector.shape"
      ],
      "execution_count": null,
      "outputs": [
        {
          "output_type": "execute_result",
          "data": {
            "text/plain": [
              "(25000, 10000)"
            ]
          },
          "metadata": {
            "tags": []
          },
          "execution_count": 13
        }
      ]
    },
    {
      "cell_type": "code",
      "metadata": {
        "id": "A6grZm-GPATp",
        "colab_type": "code",
        "colab": {
          "base_uri": "https://localhost:8080/",
          "height": 323
        },
        "outputId": "87c0281c-9d1a-4053-8b27-65b7eca2d8dc"
      },
      "source": [
        "model = tf.keras.models.Sequential()\n",
        "model.add(tf.keras.layers.Dense(998, input_dim =10000, activation='relu'))\n",
        "model.add(tf.keras.layers.Dropout(0.2))\n",
        "model.add(tf.keras.layers.Dense(998, activation = 'relu'))\n",
        "model.add(tf.keras.layers.Dropout(0.2))\n",
        "model.add(tf.keras.layers.Dense(1, activation='sigmoid'))\n",
        "model.summary()\n",
        "model.compile(optimizer = 'sgd', loss='binary_crossentropy', metrics=['accuracy'])"
      ],
      "execution_count": null,
      "outputs": [
        {
          "output_type": "stream",
          "text": [
            "Model: \"sequential_2\"\n",
            "_________________________________________________________________\n",
            "Layer (type)                 Output Shape              Param #   \n",
            "=================================================================\n",
            "dense_6 (Dense)              (None, 998)               9980998   \n",
            "_________________________________________________________________\n",
            "dropout_4 (Dropout)          (None, 998)               0         \n",
            "_________________________________________________________________\n",
            "dense_7 (Dense)              (None, 998)               997002    \n",
            "_________________________________________________________________\n",
            "dropout_5 (Dropout)          (None, 998)               0         \n",
            "_________________________________________________________________\n",
            "dense_8 (Dense)              (None, 1)                 999       \n",
            "=================================================================\n",
            "Total params: 10,978,999\n",
            "Trainable params: 10,978,999\n",
            "Non-trainable params: 0\n",
            "_________________________________________________________________\n"
          ],
          "name": "stdout"
        }
      ]
    },
    {
      "cell_type": "code",
      "metadata": {
        "id": "eBvV0o8JRBKw",
        "colab_type": "code",
        "colab": {
          "base_uri": "https://localhost:8080/",
          "height": 357
        },
        "outputId": "e183307f-7ed2-4561-9e93-5978a46b68ce"
      },
      "source": [
        "history= model.fit(train_vector, train_label, batch_size=100, epochs =10, validation_split=0.2)"
      ],
      "execution_count": null,
      "outputs": [
        {
          "output_type": "stream",
          "text": [
            "Epoch 1/10\n",
            "200/200 [==============================] - 2s 9ms/step - loss: 0.6797 - accuracy: 0.5977 - val_loss: 0.6607 - val_accuracy: 0.7194\n",
            "Epoch 2/10\n",
            "200/200 [==============================] - 2s 8ms/step - loss: 0.6407 - accuracy: 0.7236 - val_loss: 0.6056 - val_accuracy: 0.7780\n",
            "Epoch 3/10\n",
            "200/200 [==============================] - 2s 8ms/step - loss: 0.5704 - accuracy: 0.7707 - val_loss: 0.5173 - val_accuracy: 0.8030\n",
            "Epoch 4/10\n",
            "200/200 [==============================] - 1s 7ms/step - loss: 0.4821 - accuracy: 0.8070 - val_loss: 0.4370 - val_accuracy: 0.8234\n",
            "Epoch 5/10\n",
            "200/200 [==============================] - 2s 8ms/step - loss: 0.4156 - accuracy: 0.8297 - val_loss: 0.3875 - val_accuracy: 0.8398\n",
            "Epoch 6/10\n",
            "200/200 [==============================] - 2s 8ms/step - loss: 0.3711 - accuracy: 0.8496 - val_loss: 0.3598 - val_accuracy: 0.8490\n",
            "Epoch 7/10\n",
            "200/200 [==============================] - 2s 8ms/step - loss: 0.3420 - accuracy: 0.8586 - val_loss: 0.3386 - val_accuracy: 0.8566\n",
            "Epoch 8/10\n",
            "200/200 [==============================] - 2s 8ms/step - loss: 0.3192 - accuracy: 0.8690 - val_loss: 0.3255 - val_accuracy: 0.8644\n",
            "Epoch 9/10\n",
            "200/200 [==============================] - 2s 8ms/step - loss: 0.3039 - accuracy: 0.8760 - val_loss: 0.3158 - val_accuracy: 0.8676\n",
            "Epoch 10/10\n",
            "200/200 [==============================] - 1s 7ms/step - loss: 0.2885 - accuracy: 0.8831 - val_loss: 0.3072 - val_accuracy: 0.8702\n"
          ],
          "name": "stdout"
        }
      ]
    },
    {
      "cell_type": "code",
      "metadata": {
        "id": "wkwBvwHhR2hg",
        "colab_type": "code",
        "colab": {
          "base_uri": "https://localhost:8080/",
          "height": 34
        },
        "outputId": "24b20ed5-7ef9-41f7-e5b3-6f375466ec89"
      },
      "source": [
        "model.save('imdb_model')"
      ],
      "execution_count": null,
      "outputs": [
        {
          "output_type": "stream",
          "text": [
            "INFO:tensorflow:Assets written to: imdb_model/assets\n"
          ],
          "name": "stdout"
        }
      ]
    },
    {
      "cell_type": "code",
      "metadata": {
        "id": "CGb8IeCLTB6z",
        "colab_type": "code",
        "colab": {
          "base_uri": "https://localhost:8080/",
          "height": 34
        },
        "outputId": "ee2add89-b3f2-451c-d340-49929309622f"
      },
      "source": [
        "test_vector = vectorize_sequences(test_data)\n",
        "test_vector.shape"
      ],
      "execution_count": null,
      "outputs": [
        {
          "output_type": "execute_result",
          "data": {
            "text/plain": [
              "(25000, 10000)"
            ]
          },
          "metadata": {
            "tags": []
          },
          "execution_count": 17
        }
      ]
    },
    {
      "cell_type": "code",
      "metadata": {
        "id": "JMYU2GJmVWPK",
        "colab_type": "code",
        "colab": {
          "base_uri": "https://localhost:8080/",
          "height": 51
        },
        "outputId": "7f0df288-e1f6-4d87-c8e5-10ddbefad46d"
      },
      "source": [
        "results = model.evaluate(test_vector, test_label, batch_size=100)\n",
        "results"
      ],
      "execution_count": null,
      "outputs": [
        {
          "output_type": "stream",
          "text": [
            "250/250 [==============================] - 1s 4ms/step - loss: 0.3139 - accuracy: 0.8700\n"
          ],
          "name": "stdout"
        },
        {
          "output_type": "execute_result",
          "data": {
            "text/plain": [
              "[0.31390780210494995, 0.8700399994850159]"
            ]
          },
          "metadata": {
            "tags": []
          },
          "execution_count": 18
        }
      ]
    },
    {
      "cell_type": "code",
      "metadata": {
        "id": "xAyiFsglVvj3",
        "colab_type": "code",
        "colab": {}
      },
      "source": [
        ""
      ],
      "execution_count": null,
      "outputs": []
    }
  ]
}